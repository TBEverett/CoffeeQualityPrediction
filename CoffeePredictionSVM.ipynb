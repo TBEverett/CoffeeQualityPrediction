{
  "cells": [
    {
      "cell_type": "markdown",
      "metadata": {
        "id": "djwDHRS-f2Nt"
      },
      "source": [
        "# SVMs para clasificación de cafés"
      ]
    },
    {
      "cell_type": "markdown",
      "metadata": {
        "id": "LWUHbgFGVh4u"
      },
      "source": [
        "Vamos a predecir la calidad \"Total Cup Points\" de cada café en función de su origen, procesamiento etc.\n",
        "\n",
        "Se omiten las columnas correspondientes a características de calidad puesto que \"Total Cup Points\" es literalmente la suma de ellas:\n",
        "- Aroma: Refers to the scent or fragrance of the coffee.\n",
        "- Flavor: The flavor of coffee is evaluated based on the taste, including any sweetness, bitterness, acidity, and other flavor notes.\n",
        "- Aftertaste: Refers to the lingering taste that remains in the mouth after swallowing the coffee.\n",
        "- Acidity: Acidity in coffee refers to the brightness or liveliness of the taste.\n",
        "- Body: The body of coffee refers to the thickness or viscosity of the coffee in the mouth.\n",
        "- Balance: Balance refers to how well the different flavor components of the coffee work together.\n",
        "- Uniformity: Uniformity refers to the consistency of the coffee from cup to cup.\n",
        "- Clean Cup: A clean cup refers to a coffee that is free of any off-flavors or defects, such as sourness, mustiness, or staleness.\n",
        "- Sweetness: It can be described as caramel-like, fruity, or floral, and is a desirable quality in coffee.\n",
        "\n",
        "El puntaje es contínuo, asi que discretizamos en tres intervalos guiados por la distribución de los datos:\n",
        "- <= 83: Gama Baja\n",
        "- 83 - 85: Gama Media\n",
        "- \\>= 85: Gama Alta\n"
      ]
    },
    {
      "cell_type": "markdown",
      "metadata": {
        "id": "ObZkydUxg9aT"
      },
      "source": [
        "### Downloading the Data\n"
      ]
    },
    {
      "cell_type": "code",
      "execution_count": 4,
      "metadata": {
        "colab": {
          "base_uri": "https://localhost:8080/"
        },
        "id": "UEfBm9sflYoW",
        "outputId": "502625aa-a64d-4196-9594-02e77972c146"
      },
      "outputs": [
        {
          "output_type": "stream",
          "name": "stdout",
          "text": [
            "Warning: Looks like you're using an outdated `kagglehub` version, please consider updating (latest version: 0.3.3)\n",
            "Downloading from https://www.kaggle.com/api/v1/datasets/download/fatihb/coffee-quality-data-cqi?dataset_version_number=1...\n"
          ]
        },
        {
          "output_type": "stream",
          "name": "stderr",
          "text": [
            "100%|██████████| 21.8k/21.8k [00:00<00:00, 6.00MB/s]"
          ]
        },
        {
          "output_type": "stream",
          "name": "stdout",
          "text": [
            "Extracting model files...\n",
            "Path to dataset files: /root/.cache/kagglehub/datasets/fatihb/coffee-quality-data-cqi/versions/1\n"
          ]
        },
        {
          "output_type": "stream",
          "name": "stderr",
          "text": [
            "\n"
          ]
        }
      ],
      "source": [
        "import kagglehub\n",
        "\n",
        "# Download latest version\n",
        "path = kagglehub.dataset_download(\"fatihb/coffee-quality-data-cqi\")\n",
        "\n",
        "print(\"Path to dataset files:\", path)"
      ]
    },
    {
      "cell_type": "code",
      "execution_count": 5,
      "metadata": {
        "id": "EmQo9WWwAWX_"
      },
      "outputs": [],
      "source": [
        "from sklearn.datasets import load_breast_cancer\n",
        "import numpy as np\n",
        "import pandas as pd\n",
        "import matplotlib.pyplot as plt\n",
        "from sklearn.svm import SVC\n",
        "from sklearn.metrics import ConfusionMatrixDisplay, confusion_matrix\n",
        "import matplotlib.pyplot as plt\n",
        "import seaborn as sns; sns.set()\n",
        "from sklearn.metrics import classification_report\n",
        "from sklearn.preprocessing import StandardScaler\n",
        "from sklearn.model_selection import train_test_split\n",
        "from sklearn.svm import LinearSVC\n",
        "from sklearn import datasets, svm, metrics\n",
        "from sklearn.decomposition import PCA\n",
        "from sklearn.model_selection import cross_val_score\n",
        "from sklearn.inspection import permutation_importance\n",
        "from sklearn.ensemble import RandomForestClassifier\n",
        "from sklearn.model_selection import GridSearchCV\n",
        "from sklearn.multiclass import OneVsOneClassifier\n",
        "from sklearn.multiclass import OutputCodeClassifier\n",
        "from sklearn.multiclass import OneVsRestClassifier\n",
        "from sklearn.impute import KNNImputer\n",
        "\n",
        "from imblearn.over_sampling import SMOTE\n",
        "from imblearn.under_sampling import RandomUnderSampler\n",
        "import random\n",
        "\n",
        "import warnings; warnings.filterwarnings(\"ignore\")\n",
        "\n",
        "plt.rcParams.update({'font.size': 8})\n",
        "plt.rc('xtick',labelsize=8)\n",
        "plt.rc('ytick',labelsize=8)\n",
        "plt.rc('axes', labelsize=8)\n",
        "plt.rc('legend',fontsize=10)"
      ]
    },
    {
      "cell_type": "markdown",
      "metadata": {
        "id": "boj8tXxSll9g"
      },
      "source": [
        "### Data Loading & Exploration (Tomas)\n",
        "\n"
      ]
    },
    {
      "cell_type": "code",
      "execution_count": 6,
      "metadata": {
        "colab": {
          "base_uri": "https://localhost:8080/",
          "height": 603
        },
        "id": "Ccon0-c-UFCX",
        "outputId": "0572cddc-329c-41e8-ea55-a434bc96a167"
      },
      "outputs": [
        {
          "output_type": "execute_result",
          "data": {
            "text/plain": [
              "   Unnamed: 0  ID Country of Origin                 Farm Name  \\\n",
              "0           0   0          Colombia          Finca El Paraiso   \n",
              "1           1   1            Taiwan  Royal Bean Geisha Estate   \n",
              "2           2   2              Laos        OKLAO coffee farms   \n",
              "3           3   3        Costa Rica                 La Cumbre   \n",
              "4           4   4          Colombia           Finca Santuario   \n",
              "\n",
              "                                Lot Number                           Mill  \\\n",
              "0                               CQU2022015               Finca El Paraiso   \n",
              "1  The 2022 Pacific Rim Coffee Summit,T037       Royal Bean Geisha Estate   \n",
              "2  The 2022 Pacific Rim Coffee Summit,LA01  oklao coffee processing plant   \n",
              "3                               CQU2022017        La Montana Tarrazu MIll   \n",
              "4                               CQU2023002                Finca Santuario   \n",
              "\n",
              "  ICO Number                   Company   Altitude                Region  ...  \\\n",
              "0        NaN      Coffee Quality Union  1700-1930        Piendamo,Cauca  ...   \n",
              "1        NaN  Taiwan Coffee Laboratory       1200                Chiayi  ...   \n",
              "2        NaN  Taiwan Coffee Laboratory       1300  Laos Borofen Plateau  ...   \n",
              "3        NaN      Coffee Quality Union       1900    Los Santos,Tarrazu  ...   \n",
              "4        NaN      Coffee Quality Union  1850-2100         Popayan,Cauca  ...   \n",
              "\n",
              "  Total Cup Points  Moisture Percentage Category One Defects Quakers  \\\n",
              "0            89.33                 11.8                    0       0   \n",
              "1            87.58                 10.5                    0       0   \n",
              "2            87.42                 10.4                    0       0   \n",
              "3            87.17                 11.8                    0       0   \n",
              "4            87.08                 11.6                    0       2   \n",
              "\n",
              "          Color Category Two Defects            Expiration  \\\n",
              "0         green                    3  September 21st, 2023   \n",
              "1    blue-green                    0   November 15th, 2023   \n",
              "2     yellowish                    2   November 15th, 2023   \n",
              "3         green                    0  September 21st, 2023   \n",
              "4  yellow-green                    2       March 5th, 2024   \n",
              "\n",
              "                 Certification Body  \\\n",
              "0             Japan Coffee Exchange   \n",
              "1  Taiwan Coffee Laboratory 台灣咖啡研究室   \n",
              "2  Taiwan Coffee Laboratory 台灣咖啡研究室   \n",
              "3             Japan Coffee Exchange   \n",
              "4             Japan Coffee Exchange   \n",
              "\n",
              "                               Certification Address  \\\n",
              "0  〒413-0002 静岡県熱海市伊豆山１１７３−５８ 1173-58 Izusan, Ata...   \n",
              "1  QAHWAH CO., LTD 4F, No. 225, Sec. 3, Beixin Rd...   \n",
              "2  QAHWAH CO., LTD 4F, No. 225, Sec. 3, Beixin Rd...   \n",
              "3  〒413-0002 静岡県熱海市伊豆山１１７３−５８ 1173-58 Izusan, Ata...   \n",
              "4  〒413-0002 静岡県熱海市伊豆山１１７３−５８ 1173-58 Izusan, Ata...   \n",
              "\n",
              "                     Certification Contact  \n",
              "0  松澤　宏樹　Koju Matsuzawa - +81(0)9085642901  \n",
              "1     Lin, Jen-An Neil 林仁安 - 886-289116612  \n",
              "2     Lin, Jen-An Neil 林仁安 - 886-289116612  \n",
              "3  松澤　宏樹　Koju Matsuzawa - +81(0)9085642901  \n",
              "4  松澤　宏樹　Koju Matsuzawa - +81(0)9085642901  \n",
              "\n",
              "[5 rows x 41 columns]"
            ],
            "text/html": [
              "\n",
              "  <div id=\"df-229a6859-c284-4ce6-8b92-cffb5766086b\" class=\"colab-df-container\">\n",
              "    <div>\n",
              "<style scoped>\n",
              "    .dataframe tbody tr th:only-of-type {\n",
              "        vertical-align: middle;\n",
              "    }\n",
              "\n",
              "    .dataframe tbody tr th {\n",
              "        vertical-align: top;\n",
              "    }\n",
              "\n",
              "    .dataframe thead th {\n",
              "        text-align: right;\n",
              "    }\n",
              "</style>\n",
              "<table border=\"1\" class=\"dataframe\">\n",
              "  <thead>\n",
              "    <tr style=\"text-align: right;\">\n",
              "      <th></th>\n",
              "      <th>Unnamed: 0</th>\n",
              "      <th>ID</th>\n",
              "      <th>Country of Origin</th>\n",
              "      <th>Farm Name</th>\n",
              "      <th>Lot Number</th>\n",
              "      <th>Mill</th>\n",
              "      <th>ICO Number</th>\n",
              "      <th>Company</th>\n",
              "      <th>Altitude</th>\n",
              "      <th>Region</th>\n",
              "      <th>...</th>\n",
              "      <th>Total Cup Points</th>\n",
              "      <th>Moisture Percentage</th>\n",
              "      <th>Category One Defects</th>\n",
              "      <th>Quakers</th>\n",
              "      <th>Color</th>\n",
              "      <th>Category Two Defects</th>\n",
              "      <th>Expiration</th>\n",
              "      <th>Certification Body</th>\n",
              "      <th>Certification Address</th>\n",
              "      <th>Certification Contact</th>\n",
              "    </tr>\n",
              "  </thead>\n",
              "  <tbody>\n",
              "    <tr>\n",
              "      <th>0</th>\n",
              "      <td>0</td>\n",
              "      <td>0</td>\n",
              "      <td>Colombia</td>\n",
              "      <td>Finca El Paraiso</td>\n",
              "      <td>CQU2022015</td>\n",
              "      <td>Finca El Paraiso</td>\n",
              "      <td>NaN</td>\n",
              "      <td>Coffee Quality Union</td>\n",
              "      <td>1700-1930</td>\n",
              "      <td>Piendamo,Cauca</td>\n",
              "      <td>...</td>\n",
              "      <td>89.33</td>\n",
              "      <td>11.8</td>\n",
              "      <td>0</td>\n",
              "      <td>0</td>\n",
              "      <td>green</td>\n",
              "      <td>3</td>\n",
              "      <td>September 21st, 2023</td>\n",
              "      <td>Japan Coffee Exchange</td>\n",
              "      <td>〒413-0002 静岡県熱海市伊豆山１１７３−５８ 1173-58 Izusan, Ata...</td>\n",
              "      <td>松澤　宏樹　Koju Matsuzawa - +81(0)9085642901</td>\n",
              "    </tr>\n",
              "    <tr>\n",
              "      <th>1</th>\n",
              "      <td>1</td>\n",
              "      <td>1</td>\n",
              "      <td>Taiwan</td>\n",
              "      <td>Royal Bean Geisha Estate</td>\n",
              "      <td>The 2022 Pacific Rim Coffee Summit,T037</td>\n",
              "      <td>Royal Bean Geisha Estate</td>\n",
              "      <td>NaN</td>\n",
              "      <td>Taiwan Coffee Laboratory</td>\n",
              "      <td>1200</td>\n",
              "      <td>Chiayi</td>\n",
              "      <td>...</td>\n",
              "      <td>87.58</td>\n",
              "      <td>10.5</td>\n",
              "      <td>0</td>\n",
              "      <td>0</td>\n",
              "      <td>blue-green</td>\n",
              "      <td>0</td>\n",
              "      <td>November 15th, 2023</td>\n",
              "      <td>Taiwan Coffee Laboratory 台灣咖啡研究室</td>\n",
              "      <td>QAHWAH CO., LTD 4F, No. 225, Sec. 3, Beixin Rd...</td>\n",
              "      <td>Lin, Jen-An Neil 林仁安 - 886-289116612</td>\n",
              "    </tr>\n",
              "    <tr>\n",
              "      <th>2</th>\n",
              "      <td>2</td>\n",
              "      <td>2</td>\n",
              "      <td>Laos</td>\n",
              "      <td>OKLAO coffee farms</td>\n",
              "      <td>The 2022 Pacific Rim Coffee Summit,LA01</td>\n",
              "      <td>oklao coffee processing plant</td>\n",
              "      <td>NaN</td>\n",
              "      <td>Taiwan Coffee Laboratory</td>\n",
              "      <td>1300</td>\n",
              "      <td>Laos Borofen Plateau</td>\n",
              "      <td>...</td>\n",
              "      <td>87.42</td>\n",
              "      <td>10.4</td>\n",
              "      <td>0</td>\n",
              "      <td>0</td>\n",
              "      <td>yellowish</td>\n",
              "      <td>2</td>\n",
              "      <td>November 15th, 2023</td>\n",
              "      <td>Taiwan Coffee Laboratory 台灣咖啡研究室</td>\n",
              "      <td>QAHWAH CO., LTD 4F, No. 225, Sec. 3, Beixin Rd...</td>\n",
              "      <td>Lin, Jen-An Neil 林仁安 - 886-289116612</td>\n",
              "    </tr>\n",
              "    <tr>\n",
              "      <th>3</th>\n",
              "      <td>3</td>\n",
              "      <td>3</td>\n",
              "      <td>Costa Rica</td>\n",
              "      <td>La Cumbre</td>\n",
              "      <td>CQU2022017</td>\n",
              "      <td>La Montana Tarrazu MIll</td>\n",
              "      <td>NaN</td>\n",
              "      <td>Coffee Quality Union</td>\n",
              "      <td>1900</td>\n",
              "      <td>Los Santos,Tarrazu</td>\n",
              "      <td>...</td>\n",
              "      <td>87.17</td>\n",
              "      <td>11.8</td>\n",
              "      <td>0</td>\n",
              "      <td>0</td>\n",
              "      <td>green</td>\n",
              "      <td>0</td>\n",
              "      <td>September 21st, 2023</td>\n",
              "      <td>Japan Coffee Exchange</td>\n",
              "      <td>〒413-0002 静岡県熱海市伊豆山１１７３−５８ 1173-58 Izusan, Ata...</td>\n",
              "      <td>松澤　宏樹　Koju Matsuzawa - +81(0)9085642901</td>\n",
              "    </tr>\n",
              "    <tr>\n",
              "      <th>4</th>\n",
              "      <td>4</td>\n",
              "      <td>4</td>\n",
              "      <td>Colombia</td>\n",
              "      <td>Finca Santuario</td>\n",
              "      <td>CQU2023002</td>\n",
              "      <td>Finca Santuario</td>\n",
              "      <td>NaN</td>\n",
              "      <td>Coffee Quality Union</td>\n",
              "      <td>1850-2100</td>\n",
              "      <td>Popayan,Cauca</td>\n",
              "      <td>...</td>\n",
              "      <td>87.08</td>\n",
              "      <td>11.6</td>\n",
              "      <td>0</td>\n",
              "      <td>2</td>\n",
              "      <td>yellow-green</td>\n",
              "      <td>2</td>\n",
              "      <td>March 5th, 2024</td>\n",
              "      <td>Japan Coffee Exchange</td>\n",
              "      <td>〒413-0002 静岡県熱海市伊豆山１１７３−５８ 1173-58 Izusan, Ata...</td>\n",
              "      <td>松澤　宏樹　Koju Matsuzawa - +81(0)9085642901</td>\n",
              "    </tr>\n",
              "  </tbody>\n",
              "</table>\n",
              "<p>5 rows × 41 columns</p>\n",
              "</div>\n",
              "    <div class=\"colab-df-buttons\">\n",
              "\n",
              "  <div class=\"colab-df-container\">\n",
              "    <button class=\"colab-df-convert\" onclick=\"convertToInteractive('df-229a6859-c284-4ce6-8b92-cffb5766086b')\"\n",
              "            title=\"Convert this dataframe to an interactive table.\"\n",
              "            style=\"display:none;\">\n",
              "\n",
              "  <svg xmlns=\"http://www.w3.org/2000/svg\" height=\"24px\" viewBox=\"0 -960 960 960\">\n",
              "    <path d=\"M120-120v-720h720v720H120Zm60-500h600v-160H180v160Zm220 220h160v-160H400v160Zm0 220h160v-160H400v160ZM180-400h160v-160H180v160Zm440 0h160v-160H620v160ZM180-180h160v-160H180v160Zm440 0h160v-160H620v160Z\"/>\n",
              "  </svg>\n",
              "    </button>\n",
              "\n",
              "  <style>\n",
              "    .colab-df-container {\n",
              "      display:flex;\n",
              "      gap: 12px;\n",
              "    }\n",
              "\n",
              "    .colab-df-convert {\n",
              "      background-color: #E8F0FE;\n",
              "      border: none;\n",
              "      border-radius: 50%;\n",
              "      cursor: pointer;\n",
              "      display: none;\n",
              "      fill: #1967D2;\n",
              "      height: 32px;\n",
              "      padding: 0 0 0 0;\n",
              "      width: 32px;\n",
              "    }\n",
              "\n",
              "    .colab-df-convert:hover {\n",
              "      background-color: #E2EBFA;\n",
              "      box-shadow: 0px 1px 2px rgba(60, 64, 67, 0.3), 0px 1px 3px 1px rgba(60, 64, 67, 0.15);\n",
              "      fill: #174EA6;\n",
              "    }\n",
              "\n",
              "    .colab-df-buttons div {\n",
              "      margin-bottom: 4px;\n",
              "    }\n",
              "\n",
              "    [theme=dark] .colab-df-convert {\n",
              "      background-color: #3B4455;\n",
              "      fill: #D2E3FC;\n",
              "    }\n",
              "\n",
              "    [theme=dark] .colab-df-convert:hover {\n",
              "      background-color: #434B5C;\n",
              "      box-shadow: 0px 1px 3px 1px rgba(0, 0, 0, 0.15);\n",
              "      filter: drop-shadow(0px 1px 2px rgba(0, 0, 0, 0.3));\n",
              "      fill: #FFFFFF;\n",
              "    }\n",
              "  </style>\n",
              "\n",
              "    <script>\n",
              "      const buttonEl =\n",
              "        document.querySelector('#df-229a6859-c284-4ce6-8b92-cffb5766086b button.colab-df-convert');\n",
              "      buttonEl.style.display =\n",
              "        google.colab.kernel.accessAllowed ? 'block' : 'none';\n",
              "\n",
              "      async function convertToInteractive(key) {\n",
              "        const element = document.querySelector('#df-229a6859-c284-4ce6-8b92-cffb5766086b');\n",
              "        const dataTable =\n",
              "          await google.colab.kernel.invokeFunction('convertToInteractive',\n",
              "                                                    [key], {});\n",
              "        if (!dataTable) return;\n",
              "\n",
              "        const docLinkHtml = 'Like what you see? Visit the ' +\n",
              "          '<a target=\"_blank\" href=https://colab.research.google.com/notebooks/data_table.ipynb>data table notebook</a>'\n",
              "          + ' to learn more about interactive tables.';\n",
              "        element.innerHTML = '';\n",
              "        dataTable['output_type'] = 'display_data';\n",
              "        await google.colab.output.renderOutput(dataTable, element);\n",
              "        const docLink = document.createElement('div');\n",
              "        docLink.innerHTML = docLinkHtml;\n",
              "        element.appendChild(docLink);\n",
              "      }\n",
              "    </script>\n",
              "  </div>\n",
              "\n",
              "\n",
              "<div id=\"df-42877686-86b7-44da-851e-484cbbdbd235\">\n",
              "  <button class=\"colab-df-quickchart\" onclick=\"quickchart('df-42877686-86b7-44da-851e-484cbbdbd235')\"\n",
              "            title=\"Suggest charts\"\n",
              "            style=\"display:none;\">\n",
              "\n",
              "<svg xmlns=\"http://www.w3.org/2000/svg\" height=\"24px\"viewBox=\"0 0 24 24\"\n",
              "     width=\"24px\">\n",
              "    <g>\n",
              "        <path d=\"M19 3H5c-1.1 0-2 .9-2 2v14c0 1.1.9 2 2 2h14c1.1 0 2-.9 2-2V5c0-1.1-.9-2-2-2zM9 17H7v-7h2v7zm4 0h-2V7h2v10zm4 0h-2v-4h2v4z\"/>\n",
              "    </g>\n",
              "</svg>\n",
              "  </button>\n",
              "\n",
              "<style>\n",
              "  .colab-df-quickchart {\n",
              "      --bg-color: #E8F0FE;\n",
              "      --fill-color: #1967D2;\n",
              "      --hover-bg-color: #E2EBFA;\n",
              "      --hover-fill-color: #174EA6;\n",
              "      --disabled-fill-color: #AAA;\n",
              "      --disabled-bg-color: #DDD;\n",
              "  }\n",
              "\n",
              "  [theme=dark] .colab-df-quickchart {\n",
              "      --bg-color: #3B4455;\n",
              "      --fill-color: #D2E3FC;\n",
              "      --hover-bg-color: #434B5C;\n",
              "      --hover-fill-color: #FFFFFF;\n",
              "      --disabled-bg-color: #3B4455;\n",
              "      --disabled-fill-color: #666;\n",
              "  }\n",
              "\n",
              "  .colab-df-quickchart {\n",
              "    background-color: var(--bg-color);\n",
              "    border: none;\n",
              "    border-radius: 50%;\n",
              "    cursor: pointer;\n",
              "    display: none;\n",
              "    fill: var(--fill-color);\n",
              "    height: 32px;\n",
              "    padding: 0;\n",
              "    width: 32px;\n",
              "  }\n",
              "\n",
              "  .colab-df-quickchart:hover {\n",
              "    background-color: var(--hover-bg-color);\n",
              "    box-shadow: 0 1px 2px rgba(60, 64, 67, 0.3), 0 1px 3px 1px rgba(60, 64, 67, 0.15);\n",
              "    fill: var(--button-hover-fill-color);\n",
              "  }\n",
              "\n",
              "  .colab-df-quickchart-complete:disabled,\n",
              "  .colab-df-quickchart-complete:disabled:hover {\n",
              "    background-color: var(--disabled-bg-color);\n",
              "    fill: var(--disabled-fill-color);\n",
              "    box-shadow: none;\n",
              "  }\n",
              "\n",
              "  .colab-df-spinner {\n",
              "    border: 2px solid var(--fill-color);\n",
              "    border-color: transparent;\n",
              "    border-bottom-color: var(--fill-color);\n",
              "    animation:\n",
              "      spin 1s steps(1) infinite;\n",
              "  }\n",
              "\n",
              "  @keyframes spin {\n",
              "    0% {\n",
              "      border-color: transparent;\n",
              "      border-bottom-color: var(--fill-color);\n",
              "      border-left-color: var(--fill-color);\n",
              "    }\n",
              "    20% {\n",
              "      border-color: transparent;\n",
              "      border-left-color: var(--fill-color);\n",
              "      border-top-color: var(--fill-color);\n",
              "    }\n",
              "    30% {\n",
              "      border-color: transparent;\n",
              "      border-left-color: var(--fill-color);\n",
              "      border-top-color: var(--fill-color);\n",
              "      border-right-color: var(--fill-color);\n",
              "    }\n",
              "    40% {\n",
              "      border-color: transparent;\n",
              "      border-right-color: var(--fill-color);\n",
              "      border-top-color: var(--fill-color);\n",
              "    }\n",
              "    60% {\n",
              "      border-color: transparent;\n",
              "      border-right-color: var(--fill-color);\n",
              "    }\n",
              "    80% {\n",
              "      border-color: transparent;\n",
              "      border-right-color: var(--fill-color);\n",
              "      border-bottom-color: var(--fill-color);\n",
              "    }\n",
              "    90% {\n",
              "      border-color: transparent;\n",
              "      border-bottom-color: var(--fill-color);\n",
              "    }\n",
              "  }\n",
              "</style>\n",
              "\n",
              "  <script>\n",
              "    async function quickchart(key) {\n",
              "      const quickchartButtonEl =\n",
              "        document.querySelector('#' + key + ' button');\n",
              "      quickchartButtonEl.disabled = true;  // To prevent multiple clicks.\n",
              "      quickchartButtonEl.classList.add('colab-df-spinner');\n",
              "      try {\n",
              "        const charts = await google.colab.kernel.invokeFunction(\n",
              "            'suggestCharts', [key], {});\n",
              "      } catch (error) {\n",
              "        console.error('Error during call to suggestCharts:', error);\n",
              "      }\n",
              "      quickchartButtonEl.classList.remove('colab-df-spinner');\n",
              "      quickchartButtonEl.classList.add('colab-df-quickchart-complete');\n",
              "    }\n",
              "    (() => {\n",
              "      let quickchartButtonEl =\n",
              "        document.querySelector('#df-42877686-86b7-44da-851e-484cbbdbd235 button');\n",
              "      quickchartButtonEl.style.display =\n",
              "        google.colab.kernel.accessAllowed ? 'block' : 'none';\n",
              "    })();\n",
              "  </script>\n",
              "</div>\n",
              "\n",
              "    </div>\n",
              "  </div>\n"
            ],
            "application/vnd.google.colaboratory.intrinsic+json": {
              "type": "dataframe",
              "variable_name": "df"
            }
          },
          "metadata": {},
          "execution_count": 6
        }
      ],
      "source": [
        "##if you run it twice you need to re-run the previous cell\n",
        "\n",
        "df = pd.read_csv(f\"{path}/df_arabica_clean.csv\")\n",
        "df.head()"
      ]
    },
    {
      "cell_type": "markdown",
      "metadata": {
        "id": "7D_XKbx-ZuGa"
      },
      "source": [
        "Eliminaremos las columnas de valores de calidad ya que trivializarian la predicción del target"
      ]
    },
    {
      "cell_type": "code",
      "execution_count": 7,
      "metadata": {
        "id": "Sma8hQzJZuGa"
      },
      "outputs": [],
      "source": [
        "df = df.drop([\"Aroma\", \"Flavor\", \"Aftertaste\",\"Acidity\",\"Body\",\"Balance\",\"Uniformity\",\"Clean Cup\",\"Sweetness\"],axis=1)"
      ]
    },
    {
      "cell_type": "markdown",
      "metadata": {
        "id": "uvDVZE1VZuGa"
      },
      "source": [
        "Vemos distribución de target (calidad)"
      ]
    },
    {
      "cell_type": "code",
      "execution_count": 8,
      "metadata": {
        "colab": {
          "base_uri": "https://localhost:8080/",
          "height": 429
        },
        "id": "cedLTlHNZuGa",
        "outputId": "911cc400-7ac5-4584-cc4b-55c5fdf4312a"
      },
      "outputs": [
        {
          "output_type": "display_data",
          "data": {
            "text/plain": [
              "<Figure size 640x480 with 1 Axes>"
            ],
            "image/png": "[encoded data removed]"
          },
          "metadata": {}
        }
      ],
      "source": [
        "plt.hist(df[\"Total Cup Points\"])\n",
        "plt.show()"
      ]
    },
    {
      "cell_type": "code",
      "execution_count": 9,
      "metadata": {
        "colab": {
          "base_uri": "https://localhost:8080/"
        },
        "id": "797nc10eZuGa",
        "outputId": "7aac5996-0a6f-48db-e836-0d2e30146a50"
      },
      "outputs": [
        {
          "output_type": "stream",
          "name": "stdout",
          "text": [
            "Cantidad de valores bajos, medios y altos:  68 91 48\n"
          ]
        }
      ],
      "source": [
        "bajos = len(df[df[\"Total Cup Points\"] <= 83])\n",
        "mid = df[df[\"Total Cup Points\"] < 85]\n",
        "mid =  len(mid[mid[\"Total Cup Points\"] > 83])\n",
        "high = len(df[df[\"Total Cup Points\"] >= 85])\n",
        "print(\"Cantidad de valores bajos, medios y altos: \", bajos,mid,high)"
      ]
    },
    {
      "cell_type": "code",
      "execution_count": 10,
      "metadata": {
        "colab": {
          "base_uri": "https://localhost:8080/"
        },
        "id": "lt72TS6Cloah",
        "outputId": "ba033012-3e82-4b29-b0ec-0167109d7cc3"
      },
      "outputs": [
        {
          "output_type": "stream",
          "name": "stdout",
          "text": [
            "<class 'pandas.core.frame.DataFrame'>\n",
            "RangeIndex: 207 entries, 0 to 206\n",
            "Data columns (total 32 columns):\n",
            " #   Column                 Non-Null Count  Dtype  \n",
            "---  ------                 --------------  -----  \n",
            " 0   Unnamed: 0             207 non-null    int64  \n",
            " 1   ID                     207 non-null    int64  \n",
            " 2   Country of Origin      207 non-null    object \n",
            " 3   Farm Name              205 non-null    object \n",
            " 4   Lot Number             206 non-null    object \n",
            " 5   Mill                   204 non-null    object \n",
            " 6   ICO Number             75 non-null     object \n",
            " 7   Company                207 non-null    object \n",
            " 8   Altitude               206 non-null    object \n",
            " 9   Region                 205 non-null    object \n",
            " 10  Producer               206 non-null    object \n",
            " 11  Number of Bags         207 non-null    int64  \n",
            " 12  Bag Weight             207 non-null    object \n",
            " 13  In-Country Partner     207 non-null    object \n",
            " 14  Harvest Year           207 non-null    object \n",
            " 15  Grading Date           207 non-null    object \n",
            " 16  Owner                  207 non-null    object \n",
            " 17  Variety                201 non-null    object \n",
            " 18  Status                 207 non-null    object \n",
            " 19  Processing Method      202 non-null    object \n",
            " 20  Overall                207 non-null    float64\n",
            " 21  Defects                207 non-null    float64\n",
            " 22  Total Cup Points       207 non-null    float64\n",
            " 23  Moisture Percentage    207 non-null    float64\n",
            " 24  Category One Defects   207 non-null    int64  \n",
            " 25  Quakers                207 non-null    int64  \n",
            " 26  Color                  207 non-null    object \n",
            " 27  Category Two Defects   207 non-null    int64  \n",
            " 28  Expiration             207 non-null    object \n",
            " 29  Certification Body     207 non-null    object \n",
            " 30  Certification Address  207 non-null    object \n",
            " 31  Certification Contact  207 non-null    object \n",
            "dtypes: float64(4), int64(6), object(22)\n",
            "memory usage: 51.9+ KB\n",
            "None\n",
            "\n",
            "Basic Statistics of Each Variable\n",
            "\n",
            "       Unnamed: 0          ID  Number of Bags     Overall  Defects  \\\n",
            "count  207.000000  207.000000      207.000000  207.000000    207.0   \n",
            "mean   103.000000  103.000000      155.449275    7.676812      0.0   \n",
            "std     59.899917   59.899917      244.484868    0.306359      0.0   \n",
            "min      0.000000    0.000000        1.000000    6.670000      0.0   \n",
            "25%     51.500000   51.500000        1.000000    7.500000      0.0   \n",
            "50%    103.000000  103.000000       14.000000    7.670000      0.0   \n",
            "75%    154.500000  154.500000      275.000000    7.920000      0.0   \n",
            "max    206.000000  206.000000     2240.000000    8.580000      0.0   \n",
            "\n",
            "       Total Cup Points  Moisture Percentage  Category One Defects  \\\n",
            "count        207.000000           207.000000            207.000000   \n",
            "mean          83.706570            10.735266              0.135266   \n",
            "std            1.730417             1.247468              0.592070   \n",
            "min           78.000000             0.000000              0.000000   \n",
            "25%           82.580000            10.100000              0.000000   \n",
            "50%           83.750000            10.800000              0.000000   \n",
            "75%           84.830000            11.500000              0.000000   \n",
            "max           89.330000            13.500000              5.000000   \n",
            "\n",
            "          Quakers  Category Two Defects  \n",
            "count  207.000000            207.000000  \n",
            "mean     0.690821              2.251208  \n",
            "std      1.686918              2.950183  \n",
            "min      0.000000              0.000000  \n",
            "25%      0.000000              0.000000  \n",
            "50%      0.000000              1.000000  \n",
            "75%      1.000000              3.000000  \n",
            "max     12.000000             16.000000  \n",
            "ARE THERE MISSING VALUES? True\n",
            "Unnamed: 0                 0\n",
            "ID                         0\n",
            "Country of Origin          0\n",
            "Farm Name                  2\n",
            "Lot Number                 1\n",
            "Mill                       3\n",
            "ICO Number               132\n",
            "Company                    0\n",
            "Altitude                   1\n",
            "Region                     2\n",
            "Producer                   1\n",
            "Number of Bags             0\n",
            "Bag Weight                 0\n",
            "In-Country Partner         0\n",
            "Harvest Year               0\n",
            "Grading Date               0\n",
            "Owner                      0\n",
            "Variety                    6\n",
            "Status                     0\n",
            "Processing Method          5\n",
            "Overall                    0\n",
            "Defects                    0\n",
            "Total Cup Points           0\n",
            "Moisture Percentage        0\n",
            "Category One Defects       0\n",
            "Quakers                    0\n",
            "Color                      0\n",
            "Category Two Defects       0\n",
            "Expiration                 0\n",
            "Certification Body         0\n",
            "Certification Address      0\n",
            "Certification Contact      0\n",
            "dtype: int64\n"
          ]
        }
      ],
      "source": [
        "\n",
        "print(df.info()) #basic info of each variable\n",
        "\n",
        "print(\"\\nBasic Statistics of Each Variable\\n\")\n",
        "\n",
        "print(df.describe()) #stats of each variable\n",
        "\n",
        "print(\"ARE THERE MISSING VALUES?\", df.isnull().values.any())#check whether any value is missing\n",
        "print(df.isna().sum())#counts the number of missing values\n",
        "\n"
      ]
    },
    {
      "cell_type": "markdown",
      "metadata": {
        "id": "KZ5S4yr3ZuGa"
      },
      "source": [
        "Principalmente faltan valores de la columna ICO Number (>50%). La eliminaremos."
      ]
    },
    {
      "cell_type": "code",
      "execution_count": 11,
      "metadata": {
        "id": "6bhkE-dKZuGa"
      },
      "outputs": [],
      "source": [
        "df = df.drop([\"ICO Number\"],axis=1)"
      ]
    },
    {
      "cell_type": "markdown",
      "metadata": {
        "id": "9N8WuyF1ZuGa"
      },
      "source": [
        "Eliminaremos también las filas con valores faltantes ya que muchas son categóricas y no se pueden imputar correctamente"
      ]
    },
    {
      "cell_type": "code",
      "execution_count": 12,
      "metadata": {
        "id": "VkD7inL8ZuGa"
      },
      "outputs": [],
      "source": [
        "df = df.dropna(axis=0)"
      ]
    },
    {
      "cell_type": "markdown",
      "metadata": {
        "id": "SUlukIDbZuGa"
      },
      "source": [
        "Visualizamos la distribución de variables categoricas y numericas por separado"
      ]
    },
    {
      "cell_type": "code",
      "execution_count": 13,
      "metadata": {
        "colab": {
          "base_uri": "https://localhost:8080/"
        },
        "id": "8ybDKYiiZuGa",
        "outputId": "7d4f4f82-3344-4573-fa23-99ff633fe8f0"
      },
      "outputs": [
        {
          "output_type": "execute_result",
          "data": {
            "text/plain": [
              "Index(['Country of Origin', 'Farm Name', 'Lot Number', 'Mill', 'Company',\n",
              "       'Altitude', 'Region', 'Producer', 'Bag Weight', 'In-Country Partner',\n",
              "       'Harvest Year', 'Grading Date', 'Owner', 'Variety', 'Status',\n",
              "       'Processing Method', 'Color', 'Expiration', 'Certification Body',\n",
              "       'Certification Address', 'Certification Contact'],\n",
              "      dtype='object')"
            ]
          },
          "metadata": {},
          "execution_count": 13
        }
      ],
      "source": [
        "numerical_columns = df.select_dtypes(include='number').columns\n",
        "categorical_columns = df.select_dtypes(include='object').columns\n",
        "categorical_columns\n"
      ]
    },
    {
      "cell_type": "code",
      "execution_count": 14,
      "metadata": {
        "colab": {
          "base_uri": "https://localhost:8080/",
          "height": 808
        },
        "id": "OOulzh6rZuGa",
        "outputId": "26ad877b-8df7-4dda-bd31-8b4ad89e380c"
      },
      "outputs": [
        {
          "output_type": "display_data",
          "data": {
            "text/plain": [
              "<Figure size 1200x800 with 10 Axes>"
            ],
            "image/png": "[encoded data removed]"
          },
          "metadata": {}
        }
      ],
      "source": [
        "\n",
        "df_numeric = df[numerical_columns]\n",
        "\n",
        "fig, ax = plt.subplots(4,3,figsize=(12,8))\n",
        "fig.suptitle(\"Numerical Variables\", fontsize=16)\n",
        "ax = ax.flatten()\n",
        "\n",
        "# Plot a histogram for each column\n",
        "for i, col in enumerate(df_numeric.columns):\n",
        "    ax[i].hist(df_numeric[col], bins=10, color='skyblue', edgecolor='black')\n",
        "    ax[i].set_title(col)\n",
        "\n",
        "# Hide any remaining empty subplots\n",
        "for j in range(len(df_numeric.columns), len(ax)):\n",
        "    fig.delaxes(ax[j])\n",
        "\n",
        "plt.tight_layout(rect=[0, 0, 1, 0.95])  # Adjust layout to make room for title\n",
        "plt.show()"
      ]
    },
    {
      "cell_type": "markdown",
      "metadata": {
        "id": "j3vATaaLZuGa"
      },
      "source": [
        "Se puede eliminar Defects ya que es constante, e ID y Unnamed:0 por ser variables índices."
      ]
    },
    {
      "cell_type": "code",
      "execution_count": 15,
      "metadata": {
        "id": "mk6SifeDZuGa"
      },
      "outputs": [],
      "source": [
        "df = df.drop([\"Defects\",\"Unnamed: 0\", \"ID\"],axis=1)"
      ]
    },
    {
      "cell_type": "code",
      "execution_count": 16,
      "metadata": {
        "colab": {
          "base_uri": "https://localhost:8080/",
          "height": 650
        },
        "id": "rKtsvod_ZuGa",
        "outputId": "f1410001-abb0-4522-fa99-8ad458d51dc5"
      },
      "outputs": [
        {
          "output_type": "display_data",
          "data": {
            "text/plain": [
              "<Figure size 1200x800 with 21 Axes>"
            ],
            "image/png": "[encoded data removed]"
          },
          "metadata": {}
        }
      ],
      "source": [
        "\n",
        "df_categorical = df[categorical_columns]\n",
        "\n",
        "fig, ax = plt.subplots(6,5,figsize=(12,8))\n",
        "fig.suptitle(\"Categorical Variables\", fontsize=16)\n",
        "ax = ax.flatten()\n",
        "\n",
        "# Plot a histogram for each column\n",
        "for i, col in enumerate(df_categorical.columns):\n",
        "    counts = df_categorical[col].value_counts()\n",
        "    ax[i].bar(counts.index, counts.values, color='skyblue', edgecolor='black')\n",
        "    ax[i].set_title(col)\n",
        "\n",
        "# Hide any remaining empty subplots\n",
        "for j in range(len(df_categorical.columns), len(ax)):\n",
        "    fig.delaxes(ax[j])\n",
        "\n",
        "plt.tight_layout(rect=[0, 0, 1, 0.95])  # Adjust layout to make room for title\n",
        "plt.show()"
      ]
    },
    {
      "cell_type": "markdown",
      "metadata": {
        "id": "VwSL7WRGZuGa"
      },
      "source": [
        "La mayor parte de los gráficos presentan distribuciones similares. Las variables categóricas tienen unos pocos valores muy comunes y una larga cola de valores distintos. Esto excepto Certification Adress, que termina teniendo un solo valor, y por ende se puede omitir del análisis."
      ]
    },
    {
      "cell_type": "code",
      "execution_count": 17,
      "metadata": {
        "id": "SgBFZEp2ZuGa"
      },
      "outputs": [],
      "source": [
        "df = df.drop([\"Certification Address\"],axis=1)"
      ]
    },
    {
      "cell_type": "markdown",
      "metadata": {
        "id": "BeoIxzv8ZuGa"
      },
      "source": [
        "Vemos ahora correlación entre las variables numéricas"
      ]
    },
    {
      "cell_type": "code",
      "execution_count": 18,
      "metadata": {
        "colab": {
          "base_uri": "https://localhost:8080/",
          "height": 732
        },
        "id": "n5yfjxdHZuGa",
        "outputId": "824adb2b-dc24-47ba-cffe-10f0d9bf5c3f"
      },
      "outputs": [
        {
          "output_type": "stream",
          "name": "stdout",
          "text": [
            "\n",
            "Correlations between the Variables\n",
            "\n"
          ]
        },
        {
          "output_type": "display_data",
          "data": {
            "text/plain": [
              "<Figure size 1400x800 with 2 Axes>"
            ],
            "image/png": "[encoded data removed]"
          },
          "metadata": {}
        }
      ],
      "source": [
        "df_numerical = df[df.select_dtypes(include='number').columns]\n",
        "\n",
        "plt.figure(figsize=(14, 8))\n",
        "print('\\nCorrelations between the Variables\\n')\n",
        "correlation = df_numerical.corr()\n",
        "sns.heatmap(correlation, annot=True, linewidths=0, vmin=-1, cmap=sns.cubehelix_palette(8))\n",
        "plt.show()"
      ]
    },
    {
      "cell_type": "markdown",
      "metadata": {
        "id": "S_zRmg80ZuGa"
      },
      "source": [
        "## Falta distribucion de cafes por cada nivel de calidad"
      ]
    },
    {
      "cell_type": "markdown",
      "metadata": {
        "id": "E4iuKosZmOyp"
      },
      "source": [
        "### Data Preparation (Leandro)\n"
      ]
    },
    {
      "cell_type": "markdown",
      "metadata": {
        "id": "6ghXylMxnFpX"
      },
      "source": [
        "#### Defining Two Classes (Nosotros empezamos con multiples clases, omitir esta)"
      ]
    },
    {
      "cell_type": "code",
      "execution_count": 19,
      "metadata": {
        "colab": {
          "base_uri": "https://localhost:8080/",
          "height": 211
        },
        "id": "Ao3ituDOpCBB",
        "outputId": "56acb624-0fcf-4394-d6b4-0cbccbd29c0d"
      },
      "outputs": [
        {
          "output_type": "error",
          "ename": "NameError",
          "evalue": "name 'coffee_df_binary' is not defined",
          "traceback": [
            "\u001b[0;31m---------------------------------------------------------------------------\u001b[0m",
            "\u001b[0;31mNameError\u001b[0m                                 Traceback (most recent call last)",
            "\u001b[0;32m<ipython-input-19-8cd2b54c5672>\u001b[0m in \u001b[0;36m<cell line: 6>\u001b[0;34m()\u001b[0m\n\u001b[1;32m      4\u001b[0m \u001b[0;34m\u001b[0m\u001b[0m\n\u001b[1;32m      5\u001b[0m \u001b[0;34m\u001b[0m\u001b[0m\n\u001b[0;32m----> 6\u001b[0;31m \u001b[0mcoffee_df_binary\u001b[0m\u001b[0;34m[\u001b[0m\u001b[0;34m'quality_binary'\u001b[0m\u001b[0;34m]\u001b[0m \u001b[0;34m=\u001b[0m \u001b[0;36m0\u001b[0m\u001b[0;34m\u001b[0m\u001b[0;34m\u001b[0m\u001b[0m\n\u001b[0m\u001b[1;32m      7\u001b[0m \u001b[0mcoffee_df_binary\u001b[0m\u001b[0;34m.\u001b[0m\u001b[0mloc\u001b[0m\u001b[0;34m[\u001b[0m\u001b[0mcoffee_df\u001b[0m\u001b[0;34m[\u001b[0m\u001b[0;34m'Total Cup Points'\u001b[0m\u001b[0;34m]\u001b[0m \u001b[0;34m<\u001b[0m \u001b[0;36m83\u001b[0m\u001b[0;34m,\u001b[0m \u001b[0;34m'quality_binary'\u001b[0m\u001b[0;34m]\u001b[0m \u001b[0;34m=\u001b[0m \u001b[0;34m-\u001b[0m\u001b[0;36m1\u001b[0m\u001b[0;34m\u001b[0m\u001b[0;34m\u001b[0m\u001b[0m\n\u001b[1;32m      8\u001b[0m \u001b[0mcoffee_df_binary\u001b[0m\u001b[0;34m.\u001b[0m\u001b[0mloc\u001b[0m\u001b[0;34m[\u001b[0m\u001b[0mcoffee_df\u001b[0m\u001b[0;34m[\u001b[0m\u001b[0;34m'Total Cup Points'\u001b[0m\u001b[0;34m]\u001b[0m \u001b[0;34m>=\u001b[0m \u001b[0;36m84\u001b[0m\u001b[0;34m,\u001b[0m \u001b[0;34m'quality_binary'\u001b[0m\u001b[0;34m]\u001b[0m \u001b[0;34m=\u001b[0m \u001b[0;34m+\u001b[0m\u001b[0;36m1\u001b[0m\u001b[0;34m\u001b[0m\u001b[0;34m\u001b[0m\u001b[0m\n",
            "\u001b[0;31mNameError\u001b[0m: name 'coffee_df_binary' is not defined"
          ]
        }
      ],
      "source": [
        "coffee_df = df.copy(deep=True)\n",
        "\n",
        "coffee_df = pd.get_dummies(coffee_df, columns=['Country of Origin', 'Farm Name', 'Lot Number', 'Mill', 'Company', 'Altitude', 'Region', 'Producer', 'Bag Weight', 'In-Country Partner', 'Harvest Year', 'Grading Date', 'Owner', 'Variety', 'Status', 'Processing Method', 'Color', 'Expiration', 'Certification Body', 'Certification Contact'])\n",
        "\n",
        "\n",
        "coffee_df_binary['quality_binary'] = 0\n",
        "coffee_df_binary.loc[coffee_df['Total Cup Points'] < 83, 'quality_binary'] = -1\n",
        "coffee_df_binary.loc[coffee_df['Total Cup Points'] >= 84, 'quality_binary'] = +1\n",
        "\n",
        "X = coffee_df_binary.drop(['Total Cup Points','quality_binary'], axis=1).values\n",
        "y = coffee_df_binary['quality_binary'].values\n",
        "\n",
        "rn = random.randint(0, 100000)#22078, 37918, 89186, 60162, 35038, 1183, 69668, 2784\n",
        "rn = 22078; print(\"RANDOM STATE\", rn);\n",
        "\n",
        "X_train, X_test, y_train, y_test = train_test_split(X, y, test_size=0.33, random_state=rn)\n",
        "\n",
        "coffee_df_train = pd.DataFrame(X_train,columns=coffee_df.columns[:-1])\n",
        "coffee_df_train['quality_binary'] = y_train\n",
        "print(coffee_df_train.describe()) #stats of each variable\n",
        "\n",
        "fig, ax = plt.subplots(figsize=(10,4))\n",
        "class_counts = coffee_df_train['quality_binary'].value_counts()\n",
        "sns.barplot(x=class_counts.index, y=class_counts, palette=\"cubehelix\")\n",
        "ax.set_title('Number of wines per Quality') # Title\n",
        "ax.set_ylabel('Number of wines') # Y label\n",
        "ax.set_xlabel('Quality (Binary)') # X label\n",
        "plt.show()\n",
        "\n",
        "bad = coffee_df_train.loc[coffee_df_train['quality_binary'] == -1]\n",
        "good = coffee_df_train.loc[coffee_df_train['quality_binary'] == 1]\n",
        "\n",
        "fig, ax = plt.subplots(figsize=(9,8), nrows=4, ncols=3)\n",
        "counter = 0\n",
        "for var_name in coffee_df_train.columns:\n",
        "  j = counter//4; i = counter%4;\n",
        "  sns.distplot(bad[var_name].values, hist=False, rug=True, ax=ax[i,j])\n",
        "  sns.distplot(good[var_name].values, hist=False, rug=True, ax=ax[i,j])\n",
        "  counter +=1\n",
        "\n",
        "plt.title(var_name)\n",
        "plt.show()"
      ]
    },
    {
      "cell_type": "markdown",
      "metadata": {
        "id": "gi49syj0nKQ0"
      },
      "source": [
        "#### Scaling"
      ]
    },
    {
      "cell_type": "code",
      "source": [
        "coffee_df = df.copy(deep=True)\n",
        "\n",
        "# TODO: Chequear si usar encoding para variables categoricas ayuda\n",
        "#coffee_df = pd.get_dummies(coffee_df, columns=['Country of Origin', 'Farm Name', 'Lot Number', 'Mill', 'Company', 'Altitude', 'Region', 'Producer', 'Bag Weight', 'In-Country Partner', 'Harvest Year', 'Grading Date', 'Owner', 'Variety', 'Status', 'Processing Method', 'Color', 'Expiration', 'Certification Body', 'Certification Contact'])\n",
        "coffee_df = coffee_df.drop(['Country of Origin', 'Farm Name', 'Lot Number', 'Mill', 'Company', 'Altitude', 'Region', 'Producer', 'Bag Weight', 'In-Country Partner', 'Harvest Year', 'Grading Date', 'Owner', 'Variety', 'Status', 'Processing Method', 'Color', 'Expiration', 'Certification Body', 'Certification Contact'], axis=1)\n",
        "\n",
        "coffee_df_binary = coffee_df.copy(deep=True)\n",
        "coffee_df_binary['quality_binary'] = 0\n",
        "coffee_df_binary.loc[coffee_df['Total Cup Points'] < 83, 'quality_binary'] = -1\n",
        "coffee_df_binary.loc[coffee_df['Total Cup Points'] >= 84, 'quality_binary'] = +1\n",
        "\n",
        "X = coffee_df_binary.drop(['Total Cup Points','quality_binary'], axis=1).values\n",
        "y = coffee_df_binary['quality_binary'].values\n",
        "\n",
        "rn = random.randint(0, 100000)#22078, 37918, 89186, 60162, 35038, 1183, 69668, 2784\n",
        "rn = 22078; print(\"RANDOM STATE\", rn);\n",
        "\n",
        "X_train, X_test, y_train, y_test = train_test_split(X, y, test_size=0.33, random_state=rn)\n",
        "\n",
        "scaler = StandardScaler(with_mean=True, with_std=True)\n",
        "scaler.fit(X_train)\n",
        "\n",
        "X_train_scaled = scaler.transform(X_train)\n",
        "X_test_scaled = scaler.transform(X_test)\n",
        "\n",
        "coffee_df_train = pd.DataFrame(X_train_scaled,columns=coffee_df.columns[:-1])\n",
        "coffee_df_train['quality_binary'] = y_train\n",
        "print(coffee_df_train.describe()) #stats of each variable\n",
        "\n",
        "fig, ax = plt.subplots(figsize=(10,4))\n",
        "class_counts = coffee_df_train['quality_binary'].value_counts()\n",
        "sns.barplot(x=class_counts.index, y=class_counts, palette=\"cubehelix\")\n",
        "ax.set_title('Number of wines per Quality') # Title\n",
        "ax.set_ylabel('Number of wines') # Y label\n",
        "ax.set_xlabel('Quality (Binary)') # X label\n",
        "plt.show()\n",
        "\n",
        "fig, ax = plt.subplots(figsize=(9,8), nrows=4, ncols=3)\n",
        "counter = 0\n",
        "for var_name in coffee_df_train.columns:\n",
        "  j = counter//4; i = counter%4;\n",
        "  sns.distplot(bad[var_name].values, hist=False, rug=True, ax=ax[i,j])\n",
        "  sns.distplot(good[var_name].values, hist=False, rug=True, ax=ax[i,j])\n",
        "  counter +=1\n",
        "  plt.title(var_name)\n",
        "\n",
        "plt.tight_layout()\n",
        "plt.show()"
      ],
      "metadata": {
        "id": "slCrHRBSbmV4"
      },
      "execution_count": null,
      "outputs": []
    },
    {
      "cell_type": "markdown",
      "metadata": {
        "id": "gnD9mAkAsYMX"
      },
      "source": [
        "#### Outlier Removal\n"
      ]
    },
    {
      "cell_type": "code",
      "execution_count": null,
      "metadata": {
        "id": "kqXFLSPSrP-f"
      },
      "outputs": [],
      "source": [
        "print(coffee_df_train.info())#basic info of each variable\n",
        "print(coffee_df_train.describe()) #stats of each variable\n",
        "\n",
        "fig, ax = plt.subplots(figsize=(9,12), nrows=4, ncols=3)\n",
        "counter = 0\n",
        "for column in coffee_df_train.columns:\n",
        "  j = counter//4; i = counter%4;\n",
        "  sns.boxplot(x = column, data = coffee_df_train,ax=ax[i,j],palette=\"PuBuGn_d\")\n",
        "  ax[i,j].set_ylabel(column.capitalize()) # Y label\n",
        "  counter +=1\n",
        "plt.tight_layout()\n",
        "plt.show()\n",
        "\n",
        "col = 'chlorides'\n",
        "\n",
        "Q1 = coffee_df_train[col].quantile(0.25)\n",
        "Q3  = coffee_df_train[col].quantile(0.75)\n",
        "\n",
        "\n",
        "IQR = Q3-Q1\n",
        "coffee_train_filtered_df = coffee_df_train[coffee_df_train[col] < Q3 + 1.5*IQR]\n",
        "coffee_train_filtered_df = coffee_train_filtered_df[coffee_df_train[col] > Q1 - 1.5*IQR]\n",
        "\n",
        "print(coffee_train_filtered_df .info())#basic info of each variable\n",
        "print(coffee_train_filtered_df .describe()) #stats of each variable\n"
      ]
    },
    {
      "cell_type": "markdown",
      "metadata": {
        "id": "1xLWZuvbmQ6J"
      },
      "source": [
        "### Linear SVM Definition and Training (Ivan)"
      ]
    },
    {
      "cell_type": "markdown",
      "metadata": {
        "id": "SN_sUfVzn7lM"
      },
      "source": [
        "#### Default Parameters"
      ]
    },
    {
      "cell_type": "code",
      "execution_count": null,
      "metadata": {
        "id": "UfkfbvVvlnrY"
      },
      "outputs": [],
      "source": [
        "from sklearn.svm import SVC\n",
        "class_weights = dict()\n",
        "\n",
        "class_weights[0] = 10\n",
        "class_weights[1] = 0.1\n",
        "\n",
        "#svm = SVC(kernel='linear', C=1,class_weight=class_weights)\n",
        "svm = SVC(kernel='linear',C=10)\n",
        "\n",
        "svm.fit(X_train_scaled,y_train)\n",
        "\n",
        "print(\"GLOBAL ACCURACY TRAIN SET (LIB)\",svm.score(X_train_scaled,y_train))\n",
        "print(\"GLOBAL ACCURACY TEST SET (LIB)\",svm.score(X_test_scaled,y_test))\n",
        "\n",
        "print(\"\\nDETAILED REPORT TEST SET:\\n\")\n",
        "print(classification_report(y_test, svm.predict(X_test_scaled), target_names=[\"bad\",\"good\"]))"
      ]
    },
    {
      "cell_type": "markdown",
      "metadata": {
        "id": "NUUBpCD6n-uH"
      },
      "source": [
        "#### Effect of Regularization Parameter (C)"
      ]
    },
    {
      "cell_type": "code",
      "execution_count": null,
      "metadata": {
        "id": "N74qt4hQnzV6"
      },
      "outputs": [],
      "source": [
        "from sklearn.svm import SVC\n",
        "\n",
        "C_values = np.logspace(-3, 3, num=7, endpoint=True, base=10.0)\n",
        "print(C_values)\n",
        "\n",
        "test_accuracy = []\n",
        "train_accuracy = []\n",
        "\n",
        "for C_val in C_values:\n",
        "  svm = SVC(kernel='linear', C=C_val)\n",
        "  svm.fit(X_train_scaled,y_train)\n",
        "  train_accuracy.append(svm.score(X_train_scaled,y_train))\n",
        "  test_accuracy.append(svm.score(X_test_scaled,y_test))\n",
        "\n",
        "\n",
        "fig, ax = plt.subplots(figsize=(10,10))\n",
        "ax.plot(np.log(C_values),train_accuracy,color='g',lw=2.,label='train_acc')\n",
        "ax.plot(np.log(C_values),test_accuracy,color='r',lw=2.5,label='test_acc')\n",
        "plt.title(\"Test and Train Accuracy versus Value of C\")\n",
        "ax.legend(loc='center left', bbox_to_anchor=(1, 0.5))\n",
        "plt.show()\n"
      ]
    },
    {
      "cell_type": "markdown",
      "metadata": {
        "id": "UNfb1xOToG_l"
      },
      "source": [
        "#### Model Selection (USING A VALIDATION SET)"
      ]
    },
    {
      "cell_type": "code",
      "execution_count": null,
      "metadata": {
        "id": "cuUftnlJoSjY"
      },
      "outputs": [],
      "source": [
        "from sklearn.model_selection import train_test_split\n",
        "import random, sys\n",
        "\n",
        "rn = random.randint(0, 100000)\n",
        "print(rn)#1158\n",
        "rn = 1158\n",
        "\n",
        "X_train_sel, X_val, y_train_sel, y_val = train_test_split(X_train_scaled, y_train, test_size=0.33, random_state=rn)\n",
        "\n",
        "C_values = np.logspace(-3, 3, num=7, endpoint=True, base=10.0)\n",
        "print(C_values)\n",
        "\n",
        "test_accuracy = []\n",
        "val_accuracy = []\n",
        "train_accuracy = []\n",
        "\n",
        "for C_val in C_values:\n",
        "  svm = SVC(kernel='linear', C=C_val)\n",
        "  svm.fit(X_train_sel,y_train_sel)\n",
        "  train_accuracy.append(svm.score(X_train_sel,y_train_sel))\n",
        "  val_accuracy.append(svm.score(X_val,y_val))\n",
        "  test_accuracy.append(svm.score(X_test_scaled,y_test))\n",
        "\n",
        "\n",
        "fig, ax = plt.subplots(figsize=(10,10))\n",
        "ax.plot(np.log(C_values),train_accuracy,color='g',lw=2.,label='train_acc')\n",
        "ax.plot(np.log(C_values),val_accuracy,color='y',lw=2.,label='val_acc')\n",
        "ax.plot(np.log(C_values),test_accuracy,color='r',lw=2.5,label='test_acc')\n",
        "ax.legend(loc='center left', bbox_to_anchor=(1, 0.5))\n",
        "plt.title(\"Accuracy versus Value of C\")\n",
        "plt.show()"
      ]
    },
    {
      "cell_type": "markdown",
      "metadata": {
        "id": "1THbvZPQxnbO"
      },
      "source": [
        "#### Model Selection (USING CROSS-VALIDATION)"
      ]
    },
    {
      "cell_type": "code",
      "execution_count": null,
      "metadata": {
        "id": "kLotsUPdxrLA"
      },
      "outputs": [],
      "source": [
        "from sklearn.model_selection import GridSearchCV\n",
        "\n",
        "parameters = {'kernel':['linear'], 'C': np.logspace(-3, 3, num=7, endpoint=True, base=10.0)}\n",
        "svm = SVC()\n",
        "gs = GridSearchCV(svm, parameters,return_train_score=True)\n",
        "gs.fit(X_train_scaled,y_train)\n",
        "\n",
        "\n",
        "fig, ax = plt.subplots(figsize=(10,10))\n",
        "ax.plot(np.log(C_values),gs.cv_results_['mean_train_score'],color='g',lw=1.5,label='train_acc')\n",
        "ax.plot(np.log(C_values),gs.cv_results_['mean_test_score'],color='y',lw=2.5,label='cv_acc')\n",
        "plt.fill_between(np.log(C_values), gs.cv_results_['mean_test_score']-gs.cv_results_['std_test_score'], gs.cv_results_['mean_test_score']+gs.cv_results_['std_test_score'],color='gray', alpha=0.2)\n",
        "plt.title(\"CV Accuracy versus Value of C\")\n",
        "ax.legend(loc='center left', bbox_to_anchor=(1, 0.5))\n",
        "plt.show()\n"
      ]
    },
    {
      "cell_type": "markdown",
      "metadata": {
        "id": "FEVXCnZ7mYSw"
      },
      "source": [
        "### Non-linear SVM Definition and Training (Ivan)"
      ]
    },
    {
      "cell_type": "markdown",
      "metadata": {
        "id": "XPpY8dyyviPB"
      },
      "source": [
        "#### Default Parameters\n"
      ]
    },
    {
      "cell_type": "code",
      "execution_count": null,
      "metadata": {
        "id": "0BxSPiMivkZL"
      },
      "outputs": [],
      "source": [
        "from sklearn.svm import SVC\n",
        "class_weights = dict()\n",
        "\n",
        "class_weights[0] = 10\n",
        "class_weights[1] = 0.1\n",
        "\n",
        "#svm = SVC(kernel='linear', C=1,class_weight=class_weights)\n",
        "svm = SVC(kernel='rbf')\n",
        "\n",
        "svm.fit(X_train_scaled,y_train)\n",
        "\n",
        "print(\"GLOBAL ACCURACY TRAIN SET (LIB)\",svm.score(X_train_scaled,y_train))\n",
        "print(\"GLOBAL ACCURACY TEST SET (LIB)\",svm.score(X_test_scaled,y_test))\n",
        "\n",
        "print(\"\\nDETAILED REPORT TEST SET:\\n\")\n",
        "print(classification_report(y_test, svm.predict(X_test_scaled), target_names=[\"bad\",\"good\"]))"
      ]
    },
    {
      "cell_type": "markdown",
      "metadata": {
        "id": "lQmpP1BPvsjP"
      },
      "source": [
        "#### Effect of Regularization Parameter"
      ]
    },
    {
      "cell_type": "code",
      "execution_count": null,
      "metadata": {
        "id": "VevnF4onvyrq"
      },
      "outputs": [],
      "source": [
        "from sklearn.svm import SVC\n",
        "\n",
        "C_values = np.logspace(-3, 4, num=8, endpoint=True, base=10.0)\n",
        "print(C_values)\n",
        "\n",
        "test_accuracy = []\n",
        "train_accuracy = []\n",
        "\n",
        "for C_val in C_values:\n",
        "  svm = SVC(kernel='rbf', C=C_val)\n",
        "  svm.fit(X_train_scaled,y_train)\n",
        "  train_accuracy.append(svm.score(X_train_scaled,y_train))\n",
        "  test_accuracy.append(svm.score(X_test_scaled,y_test))\n",
        "\n",
        "\n",
        "fig, ax = plt.subplots(figsize=(10,10))\n",
        "ax.plot(np.log(C_values),train_accuracy,color='g',lw=2.,label='train_acc')\n",
        "ax.plot(np.log(C_values),test_accuracy,color='r',lw=2.5,label='test_acc')\n",
        "plt.title(\"Test and Train Accuracy versus Value of C\")\n",
        "ax.legend(loc='center left', bbox_to_anchor=(1, 0.5))\n",
        "plt.show()\n"
      ]
    },
    {
      "cell_type": "markdown",
      "metadata": {
        "id": "W3B4U0xCv1-h"
      },
      "source": [
        "#### Model Selection - I"
      ]
    },
    {
      "cell_type": "code",
      "execution_count": null,
      "metadata": {
        "id": "5FPO1QVdv6al"
      },
      "outputs": [],
      "source": [
        "from sklearn.model_selection import train_test_split\n",
        "import random, sys\n",
        "\n",
        "rn = random.randint(0, 100000)\n",
        "print(rn)#1158\n",
        "rn = 1158\n",
        "\n",
        "X_train_sel, X_val, y_train_sel, y_val = train_test_split(X_train_scaled, y_train, test_size=0.33, random_state=rn)\n",
        "\n",
        "C_values = np.logspace(-3, 4, num=8, endpoint=True, base=10.0)\n",
        "print(C_values)\n",
        "\n",
        "test_accuracy = []\n",
        "val_accuracy = []\n",
        "train_accuracy = []\n",
        "\n",
        "for C_val in C_values:\n",
        "  svm = SVC(kernel='rbf', C=C_val)\n",
        "  svm.fit(X_train_sel,y_train_sel)\n",
        "  train_accuracy.append(svm.score(X_train_sel,y_train_sel))\n",
        "  val_accuracy.append(svm.score(X_val,y_val))\n",
        "  test_accuracy.append(svm.score(X_test_scaled,y_test))\n",
        "\n",
        "\n",
        "fig, ax = plt.subplots(figsize=(10,10))\n",
        "ax.plot(np.log(C_values),train_accuracy,color='g',lw=2.,label='train_acc')\n",
        "ax.plot(np.log(C_values),val_accuracy,color='y',lw=2.,label='val_acc')\n",
        "ax.plot(np.log(C_values),test_accuracy,color='r',lw=2.5,label='test_acc')\n",
        "ax.legend(loc='center left', bbox_to_anchor=(1, 0.5))\n",
        "plt.title(\"Accuracy versus Value of C\")\n",
        "plt.show()"
      ]
    },
    {
      "cell_type": "markdown",
      "metadata": {
        "id": "jlPqKE6rwAlr"
      },
      "source": [
        "#### Model Selection II"
      ]
    },
    {
      "cell_type": "code",
      "execution_count": null,
      "metadata": {
        "id": "PHnAl-i5wHOV"
      },
      "outputs": [],
      "source": [
        "from sklearn.model_selection import cross_val_score\n",
        "from sklearn.svm import SVC\n",
        "\n",
        "C_values = np.logspace(-3, 4, num=8, endpoint=True, base=10.0)\n",
        "print(C_values)\n",
        "\n",
        "test_accuracy = []\n",
        "cross_val_accuracy = []\n",
        "cross_val_std = []\n",
        "train_accuracy = []\n",
        "\n",
        "for C_val in C_values:\n",
        "  svm = SVC(kernel='rbf', C=C_val)\n",
        "  cv_output = cross_val_score(svm, X_train_scaled, y_train, cv=5)\n",
        "  cross_val_accuracy.append(cv_output.mean())\n",
        "  cross_val_std.append(cv_output.std())\n",
        "  svm = SVC(kernel='rbf', C=C_val)\n",
        "  svm.fit(X_train_scaled,y_train)\n",
        "  train_accuracy.append(svm.score(X_train_scaled,y_train))\n",
        "  test_accuracy.append(svm.score(X_test_scaled,y_test))\n",
        "\n",
        "cross_val_accuracy = np.array(cross_val_accuracy)\n",
        "cross_val_std = np.array(cross_val_std)\n",
        "\n",
        "fig, ax = plt.subplots(figsize=(10,10))\n",
        "ax.plot(np.log(C_values),train_accuracy,color='g',lw=2.,label='train_acc')\n",
        "ax.plot(np.log(C_values),cross_val_accuracy,color='y',lw=2.5,label='cv_acc')\n",
        "plt.fill_between(np.log(C_values), cross_val_accuracy-cross_val_std, cross_val_accuracy+cross_val_std,color='gray', alpha=0.2)\n",
        "ax.plot(np.log(C_values),test_accuracy,color='r',lw=2.5,label='test_acc')\n",
        "plt.title(\"CV, Test, Train Accuracy versus Value of C\")\n",
        "ax.legend(loc='center left', bbox_to_anchor=(1, 0.5))\n",
        "plt.show()\n"
      ]
    },
    {
      "cell_type": "markdown",
      "metadata": {
        "id": "rXjNMXdCwRcx"
      },
      "source": [
        "#### Model Selection III"
      ]
    },
    {
      "cell_type": "code",
      "execution_count": null,
      "metadata": {
        "id": "tQGH4q3XwUSe"
      },
      "outputs": [],
      "source": [
        "#### TUNE THE KERNELIZED MACHINE\n",
        "print(\"\\nTUNNING TWO PARAMETERS OF A NON-LINEAR SVM ...\\n\")\n",
        "parameters_rbf = {'C': np.logspace(-3, 4, num=8, endpoint=True, base=10.0), 'gamma': [0.01, 0.1], 'kernel': ['rbf']}\n",
        "\n",
        "svm = SVC()\n",
        "grid_result_rbf = GridSearchCV(svm, parameters_rbf,return_train_score=True)\n",
        "grid_result_rbf.fit(X_train_scaled,y_train)\n",
        "\n",
        "means = grid_result_rbf.cv_results_['mean_test_score']\n",
        "stds = grid_result_rbf.cv_results_['std_test_score']\n",
        "params = grid_result_rbf.cv_results_['params']\n",
        "\n",
        "for mean, stdev, param in zip(means, stds, params):\n",
        "    print(\"%f (%f) with: %r\" % (mean, stdev, param))#param is a dict with the fields you created\n",
        "    #print(param['kernel'],param['C'])#you can access the fields to see the param values\n",
        "\n",
        "print(\"\\nBEST RESULTS FOR NON-LINEAR SVM ...\\n\")\n",
        "print(\"PARAMS: \",grid_result_rbf.best_params_)\n",
        "print(\"SCORE: \",grid_result_rbf.best_score_)\n",
        "\n",
        "#### TUNE THE LINEAR MACHINE AND NON-LINEAR AT THE SAME TIME\n",
        "print(\"\\nTUNNING THE SVM INCLUDING DIFFERENT KERNELS ...\\n\")\n",
        "parameters = [\n",
        "  {'C': np.logspace(-1, 1, num=3, endpoint=True, base=10.0), 'kernel': ['linear']},\n",
        "  {'C': np.logspace(-1, 1, num=3, endpoint=True, base=10.0), 'gamma': [0.01, 0.02, 0.1, 0.2], 'kernel': ['rbf']},\n",
        " ]\n",
        "\n",
        "svm = SVC()\n",
        "grid_result = GridSearchCV(svm, parameters,return_train_score=True)\n",
        "grid_result.fit(X_train_scaled,y_train)\n",
        "\n",
        "means = grid_result.cv_results_['mean_test_score']\n",
        "stds = grid_result.cv_results_['std_test_score']\n",
        "params = grid_result.cv_results_['params']\n",
        "\n",
        "for mean, stdev, param in zip(means, stds, params):\n",
        "    print(\"%f (%f) with: %r\" % (mean, stdev, param))#param is a dict with the fields you created\n",
        "    #print(param['kernel'],param['C'])#you can access the fields to see the param values\n",
        "\n",
        "print(\"\\nBEST RESULTS ...\\n\")\n",
        "print(\"PARAMS: \",grid_result.best_params_)\n",
        "print(\"SCORE: \",grid_result.best_score_)\n"
      ]
    },
    {
      "cell_type": "markdown",
      "metadata": {
        "id": "WrGcWPq1m-Ng"
      },
      "source": [
        "### Examining the Linear Model (Benja)\n"
      ]
    },
    {
      "cell_type": "code",
      "execution_count": null,
      "metadata": {
        "id": "tl6tNE8Kx1FY"
      },
      "outputs": [],
      "source": [
        "svm = SVC(kernel='linear', C=1)\n",
        "svm.fit(X_train_scaled,y_train)\n",
        "\n",
        "w = svm.coef_[0]\n",
        "b = svm.intercept_[0]\n",
        "\n",
        "#print(w.shape)\n",
        "print(\"VALUE OF INTERCEPT\", b)\n",
        "print(\"PERC. POSITIVE CLASS:\", np.sum(y_train==1)/len(y_train))\n",
        "print(\"PERC. NEGATIVE CLASS:\", np.sum(y_train==0)/len(y_train))\n",
        "\n",
        "import matplotlib.pyplot as plt\n",
        "fig, ax = plt.subplots(figsize=(10,10))\n",
        "var_idx = range(0,len(w))\n",
        "ax.barh(var_idx, w, align='center')\n",
        "ax.set_yticks(var_idx)\n",
        "ax.set_yticklabels(wine_df_train.columns[:-1])\n",
        "plt.title(\"SVM Weights\")\n",
        "plt.show()\n",
        "\n"
      ]
    },
    {
      "cell_type": "markdown",
      "metadata": {
        "id": "-MCNhnb4nd3x"
      },
      "source": [
        "### Support Vectors in the Linear and Non-linear Model (Benja)"
      ]
    },
    {
      "cell_type": "markdown",
      "metadata": {
        "id": "vfl_vQWVY7FG"
      },
      "source": [
        "# COSAS UTILES"
      ]
    },
    {
      "cell_type": "code",
      "execution_count": null,
      "metadata": {
        "id": "spmXS4YQynzs"
      },
      "outputs": [],
      "source": [
        "from sklearn.decomposition import PCA\n",
        "\n",
        "pca = PCA(n_components=2)\n",
        "pca.fit(X_train_scaled)\n",
        "X_train_proyected = pca.transform(X_train_scaled)\n",
        "y_pred_train = svm.predict(X_train_scaled)\n",
        "decision_train = svm.decision_function(X_train_scaled)\n",
        "\n",
        "fig, ax = plt.subplots(figsize=(10,10))\n",
        "ax.scatter(X_train_proyected[:,0],X_train_proyected[:,1],c=y_train)\n",
        "\n",
        "X_mistakes = X_train_scaled[y_train != y_pred_train]\n",
        "X_mistakes_proyected = pca.transform(X_mistakes)\n",
        "#ax.scatter(X_mistakes_proyected[:,0],X_mistakes_proyected[:,1], s=280, facecolors='none',edgecolors='r',linewidth=3.5)\n",
        "\n",
        "sv = svm.support_vectors_ #support vectors\n",
        "nsv = svm.n_support_ #number of support vectors\n",
        "sv_idx = svm.support_ #indices of support vectors\n",
        "sv_proyected = pca.transform(sv)\n",
        "\n",
        "print(\"NUMBER OF SUPPORT VECTORS %d\", nsv)\n",
        "\n",
        "ax.scatter(sv_proyected[:,0],sv_proyected[:,1], s=180, facecolors='none',edgecolors='m',linewidth=2)\n",
        "\n",
        "plt.title(\"Mistakes and Support Vectors Found by the SVM\")\n",
        "plt.show()\n",
        "\n"
      ]
    },
    {
      "cell_type": "markdown",
      "metadata": {
        "id": "1DmGyQ1Inkbp"
      },
      "source": [
        "### Training for Multiple Classes"
      ]
    },
    {
      "cell_type": "markdown",
      "metadata": {
        "id": "YT5nsen70w7d"
      },
      "source": [
        "#### Preparing the Data"
      ]
    },
    {
      "cell_type": "code",
      "execution_count": null,
      "metadata": {
        "id": "JtPqKS5Wy9AY"
      },
      "outputs": [],
      "source": [
        "wine_df_multi = wine_df.copy(deep=True)\n",
        "wine_df_multi['quality_multi'] = 0\n",
        "wine_df_multi.loc[wine_df['quality'] <= 5, 'quality_multi'] = 0\n",
        "wine_df_multi.loc[(wine_df['quality'] > 5) & (wine_df['quality'] <= 6), 'quality_multi'] = 1\n",
        "wine_df_multi.loc[wine_df['quality'] >= 7, 'quality_multi'] = 2\n",
        "\n",
        "X = wine_df_multi.drop(['quality','quality_multi'], axis=1).values\n",
        "y = wine_df_multi['quality_multi'].values\n",
        "\n",
        "print(np.unique(y))\n",
        "\n",
        "rn = random.randint(0, 100000)#22078, 37918, 89186, 60162, 35038, 1183, 69668, 2784\n",
        "rn = 22078; print(\"RANDOM STATE\", rn);\n",
        "\n",
        "X_train, X_test, y_train, y_test = train_test_split(X, y, test_size=0.33, random_state=rn)\n",
        "\n",
        "scaler = StandardScaler(with_mean=True, with_std=True)\n",
        "scaler.fit(X_train)\n",
        "\n",
        "X_train_scaled = scaler.transform(X_train)\n",
        "X_test_scaled = scaler.transform(X_test)\n",
        "\n",
        "wine_df_train = pd.DataFrame(X_train_scaled,columns=wine_df.columns[:-1])\n",
        "wine_df_train['quality_multi'] = y_train\n",
        "print(wine_df_train.describe()) #stats of each variable\n",
        "\n",
        "fig, ax = plt.subplots(figsize=(10,4))\n",
        "class_counts = wine_df_train['quality_multi'].value_counts()\n",
        "sns.barplot(x=class_counts.index, y=class_counts, palette=\"cubehelix\")\n",
        "ax.set_title('Number of wines per Quality') # Title\n",
        "ax.set_ylabel('Number of wines') # Y label\n",
        "ax.set_xlabel('Quality (Multiple Levels)') # X label\n",
        "plt.show()\n",
        "\n",
        "fig, ax = plt.subplots(figsize=(9,8), nrows=4, ncols=3)\n",
        "counter = 0\n",
        "for column in wine_df_train.columns:\n",
        "  if column != 'quality': #we skip the variable original quality -> 0-10\n",
        "    j = counter//4; i = counter%4;\n",
        "    sns.barplot(x = 'quality_multi', y = column, data = wine_df_train,ax=ax[i,j],palette=\"cubehelix\")\n",
        "    #ax[i,j].set_title('%s versus quality'%column.capitalize())\n",
        "    ax[i,j].set_ylabel(column) # Y label\n",
        "    #ax[i,j].set_xlabel('Quality (Binary)') # X label\n",
        "    counter +=1\n",
        "plt.tight_layout()\n",
        "plt.show()\n",
        "\n",
        "\n"
      ]
    },
    {
      "cell_type": "markdown",
      "metadata": {
        "id": "Vp0EDluV0zxO"
      },
      "source": [
        "#### Model Training and Evaluation\n"
      ]
    },
    {
      "cell_type": "code",
      "execution_count": null,
      "metadata": {
        "id": "KUtZL-HA05jU"
      },
      "outputs": [],
      "source": [
        "from sklearn.multiclass import OneVsOneClassifier\n",
        "from sklearn.multiclass import OutputCodeClassifier\n",
        "from sklearn.multiclass import OneVsRestClassifier\n",
        "\n",
        "svm = OneVsRestClassifier(SVC(kernel='rbf',C=1))\n",
        "svm.fit(X_train_scaled,y_train)\n",
        "\n",
        "print(\"OVR ACCURACY TRAIN SET (LIB)\",svm.score(X_train_scaled,y_train))\n",
        "print(\"OVR ACCURACY TEST SET (LIB)\",svm.score(X_test_scaled,y_test))\n",
        "\n",
        "#print(\"\\nOVR DETAILED REPORT TEST SET:\\n\")\n",
        "#print(classification_report(y_test, svm.predict(X_test_scaled), target_names=[\"bad\",\"average\",\"good\"]))\n",
        "\n",
        "\n",
        "svm = OneVsOneClassifier(SVC(kernel='rbf',C=1))\n",
        "svm.fit(X_train_scaled,y_train)\n",
        "\n",
        "print(\"OVO ACCURACY TRAIN SET (LIB)\",svm.score(X_train_scaled,y_train))\n",
        "print(\"OVO ACCURACY TEST SET (LIB)\",svm.score(X_test_scaled,y_test))\n",
        "\n",
        "#print(\"\\nOVO DETAILED REPORT TEST SET:\\n\")\n",
        "#print(classification_report(y_test, svm.predict(X_test_scaled), target_names=[\"bad\",\"average\",\"good\"]))\n",
        "\n",
        "\n",
        "svm = OutputCodeClassifier(SVC(kernel='rbf',C=1),code_size=10)\n",
        "svm.fit(X_train_scaled,y_train)\n",
        "\n",
        "print(\"ECOC ACCURACY TRAIN SET (LIB)\",svm.score(X_train_scaled,y_train))\n",
        "print(\"ECOC ACCURACY TEST SET (LIB)\",svm.score(X_test_scaled,y_test))\n",
        "\n",
        "#print(\"\\nECOC DETAILED REPORT TEST SET:\\n\")\n",
        "#print(classification_report(y_test, svm.predict(X_test_scaled), target_names=[\"bad\",\"average\",\"good\"]))\n",
        "\n",
        "\n"
      ]
    },
    {
      "cell_type": "markdown",
      "metadata": {
        "id": "fj8QKUjfnucn"
      },
      "source": [
        "### Evaluating the Models beyond Accuracy"
      ]
    },
    {
      "cell_type": "code",
      "execution_count": null,
      "metadata": {
        "id": "mqXmM6o53vsg"
      },
      "outputs": [],
      "source": [
        "from sklearn.svm import SVC\n",
        "class_weights = dict()\n",
        "\n",
        "class_weights[0] = 10\n",
        "class_weights[1] = 0.1\n",
        "\n",
        "#svm = SVC(kernel='linear', C=1,class_weight=class_weights)\n",
        "svm = SVC(kernel='rbf')\n",
        "\n",
        "svm.fit(X_train_scaled,y_train)\n",
        "\n",
        "print(\"GLOBAL ACCURACY TRAIN SET (LIB)\",svm.score(X_train_scaled,y_train))\n",
        "print(\"GLOBAL ACCURACY TEST SET (LIB)\",svm.score(X_test_scaled,y_test))\n",
        "\n",
        "print(\"\\nDETAILED REPORT TEST SET:\\n\")\n",
        "#print(classification_report(y_test, svm.predict(X_test_scaled), target_names=[\"bad\",\"good\"]))\n",
        "print(classification_report(y_test, svm.predict(X_test_scaled), target_names=[\"bad\",\"average\",\"good\"]))"
      ]
    },
    {
      "cell_type": "markdown",
      "metadata": {
        "id": "j9XuMAVJn1_n"
      },
      "source": [
        "### Dealing with Unbalanced Data"
      ]
    },
    {
      "cell_type": "code",
      "execution_count": null,
      "metadata": {
        "id": "gOKuizgv4G4C"
      },
      "outputs": [],
      "source": [
        "wine_df_binary = wine_df.copy(deep=True)\n",
        "wine_df_binary['quality_binary'] = 0\n",
        "wine_df_binary.loc[wine_df['quality'] < 4.5, 'quality_binary'] = 0\n",
        "wine_df_binary.loc[wine_df['quality'] >= 4.5, 'quality_binary'] = 1\n",
        "\n",
        "X = wine_df_binary.drop(['quality','quality_binary'], axis=1).values\n",
        "y = wine_df_binary['quality_binary'].values\n",
        "\n",
        "rn = random.randint(0, 100000)#22078, 37918, 89186, 60162, 35038, 1183, 69668, 2784\n",
        "rn = 22078; print(\"RANDOM STATE\", rn);\n",
        "\n",
        "X_train, X_test, y_train, y_test = train_test_split(X, y, test_size=0.33, random_state=rn)\n",
        "\n",
        "scaler = StandardScaler(with_mean=True, with_std=True)\n",
        "scaler.fit(X_train)\n",
        "\n",
        "X_train_scaled = scaler.transform(X_train)\n",
        "X_test_scaled = scaler.transform(X_test)\n",
        "\n",
        "final_df = pd.DataFrame(X_train_scaled)\n",
        "final_df[\"Class\"] = y_train\n",
        "class_counts = final_df[\"Class\"].value_counts()\n",
        "plt.figure(figsize=(6,3))\n",
        "sns.barplot(x=class_counts.index, y=class_counts)\n",
        "plt.title('Class Distribution after Under and Over Sampling')\n",
        "plt.ylabel('Count')\n",
        "plt.xlabel('Class (0:Bad, 1:Good)')\n",
        "plt.show()\n",
        "\n",
        "from sklearn.svm import SVC\n",
        "class_weights = dict()\n",
        "\n",
        "#class_weights[0] = 1\n",
        "#class_weights[1] = 2\n",
        "\n",
        "#svm = SVC(kernel='linear', C=1,class_weight=class_weights)\n",
        "svm = SVC(kernel='rbf')\n",
        "\n",
        "svm.fit(X_train_scaled,y_train)\n",
        "\n",
        "print(\"GLOBAL ACCURACY TRAIN SET (LIB)\",svm.score(X_train_scaled,y_train))\n",
        "print(\"GLOBAL ACCURACY TEST SET (LIB)\",svm.score(X_test_scaled,y_test))\n",
        "\n",
        "print(\"\\nDETAILED REPORT TEST SET:\\n\")\n",
        "print(classification_report(y_test, svm.predict(X_test_scaled), target_names=[\"bad\",\"good\"]))\n"
      ]
    },
    {
      "cell_type": "code",
      "execution_count": null,
      "metadata": {
        "id": "rEZFJngdWEN0"
      },
      "outputs": [],
      "source": [
        "wine_df_binary = wine_df.copy(deep=True)\n",
        "wine_df_binary['quality_binary'] = 0\n",
        "wine_df_binary.loc[wine_df['quality'] < 4.5, 'quality_binary'] = 0\n",
        "wine_df_binary.loc[wine_df['quality'] >= 4.5, 'quality_binary'] = 1\n",
        "\n",
        "X = wine_df_binary.drop(['quality','quality_binary'], axis=1).values\n",
        "y = wine_df_binary['quality_binary'].values\n",
        "\n",
        "rn = random.randint(0, 100000)#22078, 37918, 89186, 60162, 35038, 1183, 69668, 2784\n",
        "rn = 22078; print(\"RANDOM STATE\", rn);\n",
        "\n",
        "X_train, X_test, y_train, y_test = train_test_split(X, y, test_size=0.33, random_state=rn)\n",
        "\n",
        "final_df = pd.DataFrame(X_train)\n",
        "final_df[\"Class\"] = y_train\n",
        "class_counts = final_df[\"Class\"].value_counts()\n",
        "plt.figure(figsize=(6,3))\n",
        "sns.barplot(x=class_counts.index, y=class_counts)\n",
        "plt.title('Class Distribution after UnderSampling')\n",
        "plt.ylabel('Count')\n",
        "plt.xlabel('Class (0:Bad, 1:Good)')\n",
        "plt.show()\n",
        "\n",
        "print(X_train.shape,y_train.shape)\n",
        "print(np.sum(y_train==0))\n",
        "print(np.sum(y_train==1))\n",
        "\n",
        "under = RandomUnderSampler(sampling_strategy=0.5,random_state=rn)\n",
        "X_train, y_train = under.fit_resample(X_train, y_train)\n",
        "#X_test, y_test = under.fit_resample(X_test, y_test)\n",
        "\n",
        "print(X_train.shape,y_train.shape)\n",
        "\n",
        "final_df = pd.DataFrame(X_train)\n",
        "final_df[\"Class\"] = y_train\n",
        "class_counts = final_df[\"Class\"].value_counts()\n",
        "plt.figure(figsize=(6,3))\n",
        "sns.barplot(x=class_counts.index, y=class_counts)\n",
        "plt.title('Class Distribution after UnderSampling')\n",
        "plt.ylabel('Count')\n",
        "plt.xlabel('Class (0:Bad, 1:Good)')\n",
        "plt.show()\n",
        "\n",
        "over = SMOTE(sampling_strategy=1,random_state=rn)\n",
        "X_train, y_train = over.fit_resample(X_train, y_train)\n",
        "#X_test, y_test = over.fit_resample(X_test, y_test)\n",
        "\n",
        "print(X_train.shape,y_train.shape)\n",
        "\n",
        "scaler = StandardScaler(with_mean=True, with_std=True)\n",
        "scaler.fit(X_train)\n",
        "\n",
        "X_train_scaled = scaler.transform(X_train)\n",
        "X_test_scaled = scaler.transform(X_test)\n",
        "\n",
        "final_df = pd.DataFrame(X_train_scaled)\n",
        "final_df[\"Class\"] = y_train\n",
        "class_counts = final_df[\"Class\"].value_counts()\n",
        "plt.figure(figsize=(6,3))\n",
        "sns.barplot(x=class_counts.index, y=class_counts)\n",
        "plt.title('Class Distribution after Under and Over Sampling')\n",
        "plt.ylabel('Count')\n",
        "plt.xlabel('Class (0:Bad, 1:Good)')\n",
        "plt.show()\n",
        "\n"
      ]
    },
    {
      "cell_type": "code",
      "execution_count": null,
      "metadata": {
        "id": "UY3FS530WRRW"
      },
      "outputs": [],
      "source": [
        "from sklearn.svm import SVC\n",
        "class_weights = dict()\n",
        "\n",
        "class_weights[0] = 1\n",
        "class_weights[1] = 5\n",
        "\n",
        "#svm = SVC(kernel='linear', C=1,class_weight=class_weights)\n",
        "svm = SVC(kernel='rbf',C=1,class_weight=class_weights)\n",
        "\n",
        "svm.fit(X_train_scaled,y_train)\n",
        "\n",
        "print(\"GLOBAL ACCURACY TRAIN SET (LIB)\",svm.score(X_train_scaled,y_train))\n",
        "print(\"GLOBAL ACCURACY TEST SET (LIB)\",svm.score(X_test_scaled,y_test))\n",
        "\n",
        "print(\"\\nDETAILED REPORT TEST SET:\\n\")\n",
        "print(classification_report(y_test, svm.predict(X_test_scaled), target_names=[\"bad\",\"good\"]))"
      ]
    },
    {
      "cell_type": "markdown",
      "metadata": {
        "id": "fokhvS80QBLf"
      },
      "source": [
        "### Feature Engineering\n"
      ]
    },
    {
      "cell_type": "code",
      "execution_count": null,
      "metadata": {
        "id": "GgElpuEyQDcS"
      },
      "outputs": [],
      "source": [
        "wine_df_expanded = wine_df.copy(deep=True)\n",
        "\n",
        "for column in wine_df.columns:\n",
        "  if column != 'quality':\n",
        "    name_new_col = 'log-%s'%column\n",
        "    wine_df_expanded[name_new_col]=np.log10(wine_df[column].values + 1.0)\n",
        "    #wine_df_expanded = wine_df_expanded.drop([column], axis=1)\n",
        "\n",
        "print(\"\\nRug Plots and Approximate Distribution of Each Variable\\n\")\n",
        "\n",
        "fig, ax = plt.subplots(figsize=(9,12), nrows=4, ncols=3)\n",
        "counter = 0\n",
        "for column in wine_df_expanded.columns:\n",
        "  print(column)\n",
        "  if column.startswith('log-'):\n",
        "    j = counter//4; i = counter%4;\n",
        "    print(i,j)\n",
        "    sns.distplot(wine_df_expanded[column].values,ax=ax[i,j],rug=True)\n",
        "    ax[i,j].set_title(column.capitalize())\n",
        "    counter += 1\n",
        "\n",
        "plt.subplots_adjust(hspace=0.5)\n",
        "plt.tight_layout()\n",
        "plt.show()\n"
      ]
    },
    {
      "cell_type": "code",
      "execution_count": null,
      "metadata": {
        "id": "8F_94Jv4W57W"
      },
      "outputs": [],
      "source": [
        "wine_df_multi_expanded = wine_df.copy(deep=True)\n",
        "wine_df_multi_expanded['quality_multi'] = 0\n",
        "wine_df_multi_expanded.loc[wine_df_expanded['quality'] <= 5, 'quality_multi'] = 0\n",
        "wine_df_multi_expanded.loc[(wine_df_expanded['quality'] > 5) & (wine_df_expanded['quality'] <= 6), 'quality_multi'] = 1\n",
        "wine_df_multi_expanded.loc[wine_df_expanded['quality'] >= 7, 'quality_multi'] = 2\n",
        "\n",
        "X = wine_df_multi.drop(['quality','quality_multi'], axis=1).values\n",
        "y = wine_df_multi['quality_multi'].values\n",
        "\n",
        "\n",
        "rn = random.randint(0, 100000)#22078, 37918, 89186, 60162, 35038, 1183, 69668, 2784\n",
        "rn = 22078; print(\"RANDOM STATE\", rn);\n",
        "\n",
        "X_train, X_test, y_train, y_test = train_test_split(X, y, test_size=0.33, random_state=rn)\n",
        "\n",
        "scaler = StandardScaler(with_mean=True, with_std=True)\n",
        "scaler.fit(X_train)\n",
        "\n",
        "X_train_scaled = scaler.transform(X_train)\n",
        "X_test_scaled = scaler.transform(X_test)"
      ]
    },
    {
      "cell_type": "code",
      "execution_count": null,
      "metadata": {
        "id": "b_N28UvfTKEA"
      },
      "outputs": [],
      "source": [
        "from sklearn.svm import SVC\n",
        "class_weights = dict()\n",
        "\n",
        "print(X_train_scaled.shape)\n",
        "svm = SVC(kernel='rbf',C=1)\n",
        "\n",
        "svm.fit(X_train_scaled,y_train)\n",
        "\n",
        "print(\"GLOBAL ACCURACY TRAIN SET (LIB)\",svm.score(X_train_scaled,y_train))\n",
        "print(\"GLOBAL ACCURACY TEST SET (LIB)\",svm.score(X_test_scaled,y_test))\n",
        "\n",
        "print(\"\\nDETAILED REPORT TEST SET:\\n\")\n",
        "print(classification_report(y_test, svm.predict(X_test_scaled), target_names=[\"bad\",\"average\",\"good\"]))"
      ]
    }
  ],
  "metadata": {
    "colab": {
      "collapsed_sections": [
        "ObZkydUxg9aT",
        "E4iuKosZmOyp",
        "6ghXylMxnFpX",
        "gi49syj0nKQ0",
        "gnD9mAkAsYMX",
        "1xLWZuvbmQ6J",
        "FEVXCnZ7mYSw",
        "WrGcWPq1m-Ng",
        "YT5nsen70w7d",
        "Vp0EDluV0zxO",
        "fj8QKUjfnucn",
        "j9XuMAVJn1_n",
        "fokhvS80QBLf"
      ],
      "provenance": []
    },
    "kernelspec": {
      "display_name": "Python 3",
      "name": "python3"
    },
    "language_info": {
      "codemirror_mode": {
        "name": "ipython",
        "version": 3
      },
      "file_extension": ".py",
      "mimetype": "text/x-python",
      "name": "python",
      "nbconvert_exporter": "python",
      "pygments_lexer": "ipython3",
      "version": "3.10.12"
    }
  },
  "nbformat": 4,
  "nbformat_minor": 0
}